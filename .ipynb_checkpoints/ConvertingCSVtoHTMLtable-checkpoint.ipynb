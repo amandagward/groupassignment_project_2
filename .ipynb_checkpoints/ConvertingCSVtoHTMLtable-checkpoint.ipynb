{
 "cells": [
  {
   "cell_type": "markdown",
   "metadata": {},
   "source": [
    "# The goal of this Jupyter Notebook is to convert CSV files in HTML tables and insert them in a MongoDB database. "
   ]
  },
  {
   "cell_type": "code",
   "execution_count": 2,
   "metadata": {},
   "outputs": [
    {
     "ename": "SyntaxError",
     "evalue": "invalid syntax (<ipython-input-2-5440af526b9b>, line 3)",
     "output_type": "error",
     "traceback": [
      "\u001b[1;36m  File \u001b[1;32m\"<ipython-input-2-5440af526b9b>\"\u001b[1;36m, line \u001b[1;32m3\u001b[0m\n\u001b[1;33m    from pymongo\u001b[0m\n\u001b[1;37m                ^\u001b[0m\n\u001b[1;31mSyntaxError\u001b[0m\u001b[1;31m:\u001b[0m invalid syntax\n"
     ]
    }
   ],
   "source": [
    "# import dependencies\n",
    "import pandas as pd\n",
    "import pymongo\n",
    "from dbconfig import dbname, dbuser, psswd, host, parameters\n",
    "import os, json, csv, time"
   ]
  },
  {
   "cell_type": "code",
   "execution_count": null,
   "metadata": {},
   "outputs": [],
   "source": [
    "# Converting Global Areas Dataset from CSV to HTML table\n",
    "file = os.path.join(\"static\", \"data\", \"global_areas.csv\")\n",
    "df = pd.read_csv(file) \n",
    "# df.rename(columns={0:\"Description\",1:\"Value\"}, inplace=True)\n",
    "html_table = df.to_html(index=False, escape=False, justify=\"left\", classes=\"table table-striped table-bordered table-sm\")\n"
   ]
  },
  {
   "cell_type": "code",
   "execution_count": null,
   "metadata": {},
   "outputs": [],
   "source": [
    "# Saving table HTML Global Areas on MongoDB.\n",
    "\n",
    "connection_string ='mongodb+srv://' + dbuser + ':' + psswd + host + '/' + dbname + \"?\" + parameters\n",
    "  \n",
    "# mongo = PyMongo(app, uri=connection_string)\n",
    "\n",
    "# Pass connection to the pymongo instance.\n",
    "client = pymongo.MongoClient(connection_string)\n",
    "\n",
    "# Connect to a database. Will create one if not already available.\n",
    "db = client.migration\n",
    "\n",
    "# Drops collection if available to remove duplicates\n",
    "db.global_areas.drop()\n",
    "\n",
    "json_data = {}\n",
    "json_data[\"html_table\"] = html_table\n",
    "\n",
    "\n",
    "# Creates a collection in the database and inserts two documents\n",
    "db.global_areas.insert_one (\n",
    "    [\n",
    "        json_data\n",
    "    ]\n",
    ")\n",
    "\n",
    "\n",
    "\n",
    "\n",
    "\n",
    "\n",
    "\n",
    "# @app.route(\"/\")\n",
    "# def index():\n",
    "#     mars = mongo.db.mars.find_one()\n",
    "#     return render_template(\"index.html\", mars=mars)\n",
    "\n",
    "# @app.route(\"/scrape\")\n",
    "# def scrape():\n",
    "#     mars = mongo.db.mars\n",
    "#     print(\"E AQUI *****************************************************************$$$$$$$$$*\")\n",
    "#     data = scrape_mars.scrape()\n",
    "#     print(\"E AQUI QUE COMEÇA******************************************************************\")\n",
    "#     mars.update({}, data, upsert=True)\n",
    "#     return redirect(\"/\", code=302)\n"
   ]
  }
 ],
 "metadata": {
  "kernelspec": {
   "display_name": "Python 3",
   "language": "python",
   "name": "python3"
  },
  "language_info": {
   "codemirror_mode": {
    "name": "ipython",
    "version": 3
   },
   "file_extension": ".py",
   "mimetype": "text/x-python",
   "name": "python",
   "nbconvert_exporter": "python",
   "pygments_lexer": "ipython3",
   "version": "3.7.3"
  }
 },
 "nbformat": 4,
 "nbformat_minor": 2
}
