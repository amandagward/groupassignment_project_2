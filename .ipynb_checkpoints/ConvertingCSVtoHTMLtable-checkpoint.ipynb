{
 "cells": [
  {
   "cell_type": "markdown",
   "metadata": {},
   "source": [
    "# The goal of this Jupyter Notebook is to convert CSV files in HTML tables and insert them in a MongoDB database. "
   ]
  },
  {
   "cell_type": "code",
   "execution_count": 1,
   "metadata": {},
   "outputs": [],
   "source": [
    "# import dependencies\n",
    "import pandas as pd\n",
    "import pymongo\n",
    "from dbconfig import dbname, dbuser, psswd, host, parameters\n",
    "import os, json, csv, time"
   ]
  },
  {
   "cell_type": "markdown",
   "metadata": {},
   "source": [
    "### Open connection with remote MongoDB"
   ]
  },
  {
   "cell_type": "code",
   "execution_count": 2,
   "metadata": {},
   "outputs": [],
   "source": [
    "# Gets params for connection\n",
    "connection_string ='mongodb+srv://' + dbuser + ':' + psswd + host + '/' + dbname + \"?\" + parameters\n",
    "  \n",
    "# Pass connection to the pymongo instance.\n",
    "client = pymongo.MongoClient(connection_string)\n",
    "\n",
    "# Connect to database. Will create one if not already available.\n",
    "db = client.migration"
   ]
  },
  {
   "cell_type": "markdown",
   "metadata": {},
   "source": [
    "### Converting Global Areas Dataset from CSV to HTML table and  inserting in MongoDB"
   ]
  },
  {
   "cell_type": "code",
   "execution_count": 3,
   "metadata": {},
   "outputs": [],
   "source": [
    "# Opens the CSV file with Pandas\n",
    "file = os.path.join(\"static\", \"data\", \"global_areas.csv\")\n",
    "df = pd.read_csv(file) \n",
    "# Convert to HTML table adding Bootstrap classes.\n",
    "html_table = df.to_html(index=False, escape=False, justify=\"left\", classes=\"table table-striped table-bordered table-sm\")\n"
   ]
  },
  {
   "cell_type": "code",
   "execution_count": 4,
   "metadata": {},
   "outputs": [
    {
     "data": {
      "text/plain": [
       "<pymongo.results.InsertOneResult at 0x1f8ba2cf088>"
      ]
     },
     "execution_count": 4,
     "metadata": {},
     "output_type": "execute_result"
    }
   ],
   "source": [
    "# Put the HTML table in JSon format\n",
    "json_data = {}\n",
    "json_data[\"html_table\"] = html_table\n",
    "\n",
    "# Drop collection if available to remove duplicates\n",
    "db.global_areas.drop()\n",
    "\n",
    "# Create a collection in the database and insert the document\n",
    "db.global_areas.insert_one (json_data)\n"
   ]
  },
  {
   "cell_type": "markdown",
   "metadata": {},
   "source": [
    "\n",
    "### Converting Top 5 Countries Dataset from CSV to HTML table and inserting in MongoDB\n"
   ]
  },
  {
   "cell_type": "code",
   "execution_count": 5,
   "metadata": {},
   "outputs": [],
   "source": [
    "# Opens the CSV file with Pandas\n",
    "file = os.path.join(\"static\", \"data\", \"top_5_countries.csv\")\n",
    "df = pd.read_csv(file) \n",
    "# Convert to HTML table adding Bootstrap classes.\n",
    "html_table = df.to_html(index=False, escape=False, justify=\"left\", classes=\"table table-striped table-bordered table-sm\")\n"
   ]
  },
  {
   "cell_type": "code",
   "execution_count": 6,
   "metadata": {},
   "outputs": [
    {
     "data": {
      "text/plain": [
       "<pymongo.results.InsertOneResult at 0x1f8c256e148>"
      ]
     },
     "execution_count": 6,
     "metadata": {},
     "output_type": "execute_result"
    }
   ],
   "source": [
    "# Put the HTML table in JSon format\n",
    "json_data = {}\n",
    "json_data[\"html_table\"] = html_table\n",
    "\n",
    "# Drop collection if available to remove duplicates\n",
    "db.top5countries.drop()\n",
    "\n",
    "# Create a collection in the database and insert the document\n",
    "db.top5countries.insert_one (json_data)\n"
   ]
  },
  {
   "cell_type": "markdown",
   "metadata": {},
   "source": [
    "### Converting Top 10 Countries Dataset from CSV to HTML table and inserting in MongoDB"
   ]
  },
  {
   "cell_type": "code",
   "execution_count": 8,
   "metadata": {},
   "outputs": [],
   "source": [
    "# Opens the CSV file with Pandas\n",
    "file = os.path.join(\"static\", \"data\", \"top_10_countries.csv\")\n",
    "df = pd.read_csv(file) \n",
    "# Convert to HTML table adding Bootstrap classes.\n",
    "html_table = df.to_html(index=False, escape=False, justify=\"left\", classes=\"table table-striped table-bordered table-sm\")\n"
   ]
  },
  {
   "cell_type": "code",
   "execution_count": 9,
   "metadata": {},
   "outputs": [
    {
     "data": {
      "text/plain": [
       "<pymongo.results.InsertOneResult at 0x1f8ba2b5908>"
      ]
     },
     "execution_count": 9,
     "metadata": {},
     "output_type": "execute_result"
    }
   ],
   "source": [
    "# Put the HTML table in JSon format\n",
    "json_data = {}\n",
    "json_data[\"html_table\"] = html_table\n",
    "\n",
    "# Drop collection if available to remove duplicates\n",
    "db.top10countries.drop()\n",
    "\n",
    "# Create a collection in the database and insert the document\n",
    "db.top10countries.insert_one (json_data)"
   ]
  },
  {
   "cell_type": "code",
   "execution_count": null,
   "metadata": {},
   "outputs": [],
   "source": []
  }
 ],
 "metadata": {
  "kernelspec": {
   "display_name": "Python 3",
   "language": "python",
   "name": "python3"
  },
  "language_info": {
   "codemirror_mode": {
    "name": "ipython",
    "version": 3
   },
   "file_extension": ".py",
   "mimetype": "text/x-python",
   "name": "python",
   "nbconvert_exporter": "python",
   "pygments_lexer": "ipython3",
   "version": "3.7.3"
  }
 },
 "nbformat": 4,
 "nbformat_minor": 2
}
