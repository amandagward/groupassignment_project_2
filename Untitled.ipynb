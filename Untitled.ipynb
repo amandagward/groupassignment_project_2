{
 "cells": [
  {
   "cell_type": "markdown",
   "metadata": {},
   "source": [
    "# The goal of this Jupyter Notebook is to convert CSV files in HTML tables and insert them in a MongoDB database. "
   ]
  },
  {
   "cell_type": "code",
   "execution_count": null,
   "metadata": {},
   "outputs": [],
   "source": [
    "# import dependencies\n",
    "from flask_pymongo import PyMongo\n",
    "from dbconfig import dbname, dbuser, psswd, host, parameters\n",
    "\n",
    "connection_string ='mongodb+srv://' + dbuser + ':' + psswd + host + '/' + dbname + \"?\" + parameters\n",
    "  \n",
    "mongo = PyMongo(app, uri=connection_string)\n",
    "\n",
    "@app.route(\"/\")\n",
    "def index():\n",
    "    mars = mongo.db.mars.find_one()\n",
    "    return render_template(\"index.html\", mars=mars)\n",
    "\n",
    "@app.route(\"/scrape\")\n",
    "def scrape():\n",
    "    mars = mongo.db.mars\n",
    "    print(\"E AQUI *****************************************************************$$$$$$$$$*\")\n",
    "    data = scrape_mars.scrape()\n",
    "    print(\"E AQUI QUE COMEÇA******************************************************************\")\n",
    "    mars.update({}, data, upsert=True)\n",
    "    return redirect(\"/\", code=302)\n"
   ]
  }
 ],
 "metadata": {
  "kernelspec": {
   "display_name": "Python 3",
   "language": "python",
   "name": "python3"
  },
  "language_info": {
   "codemirror_mode": {
    "name": "ipython",
    "version": 3
   },
   "file_extension": ".py",
   "mimetype": "text/x-python",
   "name": "python",
   "nbconvert_exporter": "python",
   "pygments_lexer": "ipython3",
   "version": "3.7.3"
  }
 },
 "nbformat": 4,
 "nbformat_minor": 2
}
